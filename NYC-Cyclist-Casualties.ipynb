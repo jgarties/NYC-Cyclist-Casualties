{
 "cells": [
  {
   "cell_type": "markdown",
   "metadata": {
    "id": "LQgF70TawW5Z"
   },
   "source": [
    "# NYC Cyclist Casualty Analysis, 2017-2024"
   ]
  },
  {
   "cell_type": "markdown",
   "metadata": {
    "id": "IS0hmlgnyZ-K"
   },
   "source": [
    "## Load Data"
   ]
  },
  {
   "cell_type": "code",
   "execution_count": null,
   "metadata": {
    "id": "ny_MoMMAX5xw"
   },
   "outputs": [],
   "source": [
    "# Import libraries\n",
    "import pandas as pd\n",
    "import matplotlib.pyplot as plt\n",
    "import seaborn as sns\n",
    "import folium\n",
    "from folium.plugins import HeatMap"
   ]
  },
  {
   "cell_type": "code",
   "execution_count": null,
   "metadata": {
    "id": "oZ1E6bik8nJc"
   },
   "outputs": [],
   "source": [
    "# Optional: If saving csv in Google Drive, mount your drive\n",
    "from google.colab import drive\n",
    "drive.mount('/content/drive')"
   ]
  },
  {
   "cell_type": "code",
   "execution_count": null,
   "metadata": {
    "id": "ZWDspN8OEEdK"
   },
   "outputs": [],
   "source": [
    "# Read data from CSV\n",
    "data = pd.read_csv('/content/drive/MyDrive/TDSP Project/Motor_Vehicle_Collisions_-_Crashes_20250202.csv')\n",
    "# View the column headers and the first five rows of the dataset\n",
    "data.head(5)"
   ]
  },
  {
   "cell_type": "markdown",
   "metadata": {
    "id": "Njy8p8YGnv5b"
   },
   "source": [
    "## Check Dataset for Missing Values"
   ]
  },
  {
   "cell_type": "code",
   "execution_count": null,
   "metadata": {
    "id": "SJxonft0n2QN"
   },
   "outputs": [],
   "source": [
    "# Find the number of missing values in each column\n",
    "missing_values = data.isnull().sum()\n",
    "\n",
    "# Calculate percentages of missing values\n",
    "missing_values_percentage = (missing_values / len(data)) * 100\n",
    "\n",
    "# Return counts and percentages of missing values in each column\n",
    "missing_data = pd.DataFrame({'Missing Values': missing_values, 'Percentage (%)': missing_values_percentage})\n",
    "missing_data.sort_values(by='Percentage (%)', ascending=False)"
   ]
  },
  {
   "cell_type": "markdown",
   "metadata": {
    "id": "mI-rrPP_ypNd"
   },
   "source": [
    "## Summarize Data to Analyze Annual Cyclist Casualty Rates"
   ]
  },
  {
   "cell_type": "code",
   "execution_count": null,
   "metadata": {
    "id": "BOubGIYJs_7E"
   },
   "outputs": [],
   "source": [
    "# Convert 'CRASH DATE' to datetime format\n",
    "data['CRASH DATE'] = pd.to_datetime(data['CRASH DATE'])\n",
    "\n",
    "# Create a dataframe of collisions, cyclist injuries, and cyclist fatalities\n",
    "cyc = data[['CRASH DATE','COLLISION_ID','NUMBER OF CYCLIST INJURED','NUMBER OF CYCLIST KILLED']]\n",
    "\n",
    "# Group by year to get the number of crashes per year\n",
    "annual_cyc = cyc.groupby(cyc['CRASH DATE'].dt.to_period(\"Y\")).agg({\n",
    "    'COLLISION_ID': 'size',\n",
    "    'NUMBER OF CYCLIST INJURED': 'sum',\n",
    "    'NUMBER OF CYCLIST KILLED': 'sum'\n",
    "}).rename(columns={'COLLISION_ID': 'Number of Crashes'})\n",
    "\n",
    "# Filter the dataframe to only include the years 2017 - 2024\n",
    "annual_cyc = annual_cyc[(annual_cyc.index >= '2017') & (annual_cyc.index <= '2024')]\n",
    "\n",
    "# Calculate cyclist injury and fatality rates for each year and add them to the dataframe\n",
    "annual_cyc['Cyclist Injury Rate'] = annual_cyc['NUMBER OF CYCLIST INJURED']/annual_cyc['Number of Crashes']\n",
    "annual_cyc['Cyclist Fatality Rate'] = annual_cyc['NUMBER OF CYCLIST KILLED']/annual_cyc['Number of Crashes']\n",
    "\n",
    "annual_cyc"
   ]
  },
  {
   "cell_type": "markdown",
   "metadata": {
    "id": "MWfStIEQ6RDi"
   },
   "source": [
    "## Plot Crashes and Cyclist Casualties"
   ]
  },
  {
   "cell_type": "markdown",
   "metadata": {
    "id": "dKB_l2w86VRq"
   },
   "source": [
    "### Crashes per Year"
   ]
  },
  {
   "cell_type": "code",
   "execution_count": null,
   "metadata": {
    "id": "MRan83jfTkFc"
   },
   "outputs": [],
   "source": [
    "# Plot the number of crashes per year\n",
    "plt.figure(figsize=(16, 6)) # Adjust figure size to meet your needs\n",
    "sns.barplot(x=annual_cyc.index, y=annual_cyc['Number of Crashes'].values)\n",
    "plt.title('Total Crashes per Year', fontsize=16)\n",
    "plt.xlabel('Year', fontsize=14)\n",
    "plt.ylabel('Number of Crashes', fontsize=14)\n",
    "plt.tight_layout()\n",
    "\n",
    "# plt.savefig(\"total_crashes_year.svg\", format='svg') # Optional: Save the figure\n",
    "\n",
    "plt.show()"
   ]
  },
  {
   "cell_type": "markdown",
   "metadata": {
    "id": "N-Rlm3zo6auy"
   },
   "source": [
    "### Combo Plots - Cyclist Casualty Rates"
   ]
  },
  {
   "cell_type": "markdown",
   "metadata": {
    "id": "ufJg6z43kHHQ"
   },
   "source": [
    "#### Cyclist Injury Rate"
   ]
  },
  {
   "cell_type": "code",
   "execution_count": null,
   "metadata": {
    "id": "CURE3Xvx5MAR"
   },
   "outputs": [],
   "source": [
    "# Create a figure\n",
    "fig, ax1 = plt.subplots(figsize=(16,6)) # Adjust figure size to meet your needs\n",
    "\n",
    "# Create a barplot for the number of cyclists injured\n",
    "sns.barplot(x=annual_cyc.index.astype(str), y=annual_cyc['NUMBER OF CYCLIST INJURED'].values, ax=ax1)\n",
    "ax1.set_ylabel('Number of Cyclists Injured', fontsize=14)\n",
    "ax1.set_xlabel('Year', fontsize=14)\n",
    "\n",
    "# Create the secondary y-axis\n",
    "ax2 = ax1.twinx()\n",
    "\n",
    "# Create a lineplot for cyclist injury rate\n",
    "sns.lineplot(x=annual_cyc.index.astype(str), y=annual_cyc['Cyclist Injury Rate'].values, ax=ax2, color='red')\n",
    "ax2.set_ylabel('Cyclist Injury Rate (all crashes)', fontsize=14)\n",
    "\n",
    "# Set title and labels\n",
    "plt.title('Cyclists Injured in Crashes', fontsize=16)\n",
    "\n",
    "# plt.savefig(\"cyc_inj_rate_year.svg\", format='svg') # Optional: Save the figure\n",
    "\n",
    "plt.show()"
   ]
  },
  {
   "cell_type": "markdown",
   "metadata": {
    "id": "IfmaYMg46eLD"
   },
   "source": [
    "#### Cyclist Fatalities"
   ]
  },
  {
   "cell_type": "code",
   "execution_count": null,
   "metadata": {
    "id": "AtVgUtJCAXr1"
   },
   "outputs": [],
   "source": [
    "# Create a figure\n",
    "fig, ax1 = plt.subplots(figsize=(16, 6)) # Adjust figure size to meet your needs\n",
    "\n",
    "# Create a barplot for the number of cyclists killed\n",
    "sns.barplot(x=annual_cyc.index.astype(str), y=annual_cyc['NUMBER OF CYCLIST KILLED'].values, ax=ax1)\n",
    "ax1.set_ylabel('Number of Cyclists Killed', fontsize=14)\n",
    "ax1.set_xlabel('Year', fontsize=14)\n",
    "\n",
    "# Create the secondary y-axis\n",
    "ax2 = ax1.twinx()\n",
    "\n",
    "# Create a lineplot for cyclist injury rate\n",
    "sns.lineplot(x=annual_cyc.index.astype(str), y=annual_cyc['Cyclist Fatality Rate'].values, ax=ax2, color='red')\n",
    "ax2.set_ylabel('Cyclist Fatality Rate (all crashes)', fontsize=14)\n",
    "\n",
    "# Set title and labels\n",
    "plt.title('Cyclists Killed in Crashes', fontsize=16)\n",
    "\n",
    "# plt.savefig(\"cyc_fatality_rate_year.svg\", format='svg') # Optional: Save the figure\n",
    "plt.show()"
   ]
  },
  {
   "cell_type": "markdown",
   "metadata": {
    "id": "yC3P2cOdm1Ki"
   },
   "source": [
    "## Create Heatmaps"
   ]
  },
  {
   "cell_type": "markdown",
   "metadata": {
    "id": "bXADl1pITV8u"
   },
   "source": [
    "---"
   ]
  },
  {
   "cell_type": "markdown",
   "metadata": {
    "id": "ypyuTMGEon0t"
   },
   "source": [
    "### Heatmap for Cyclist Casualties, 2017-2019"
   ]
  },
  {
   "cell_type": "code",
   "execution_count": null,
   "metadata": {
    "id": "5bo7P9cxL8sp"
   },
   "outputs": [],
   "source": [
    "# Drop rows with missing latitude and longitude values\n",
    "data_geo = data.dropna(subset=['LATITUDE', 'LONGITUDE'])\n",
    "\n",
    "# Drop rows where no cyclist was killed or injured\n",
    "data_cyc = data_geo[(data_geo['NUMBER OF CYCLIST KILLED'] > 0) | (data_geo['NUMBER OF CYCLIST INJURED'] > 0)]\n",
    "\n",
    "# Filter rows for desired years\n",
    "data_cyc_17_19 = data_cyc[(data_cyc['CRASH DATE'] >= '2017-01-01') & (data_cyc['CRASH DATE'] <= '2019-12-31')]\n",
    "\n",
    "# Create a base map\n",
    "cyc_17_19 = folium.Map(location=[40.730610, -73.935242], zoom_start=10)\n",
    "\n",
    "# Add heatmap\n",
    "heat_cyc = [[row['LATITUDE'], row['LONGITUDE']] for index, row in data_cyc_17_19.iterrows()]\n",
    "HeatMap(heat_cyc, radius=8, max_zoom=13).add_to(cyc_17_19)\n",
    "\n",
    "# Save the map\n",
    "cyc_17_19.save(\"cyc_heatmap_2017_2019.html\")"
   ]
  },
  {
   "cell_type": "markdown",
   "metadata": {
    "id": "9bIBqG3epDJJ"
   },
   "source": [
    "### Heatmap for Cyclist Casualties, 2022-2024"
   ]
  },
  {
   "cell_type": "code",
   "execution_count": null,
   "metadata": {
    "id": "jBwcDt6iMs_v"
   },
   "outputs": [],
   "source": [
    "# IF NOT PERFORMED ABOVE: Drop rows with missing latitude and longitude values\n",
    "# data_geo = data.dropna(subset=['LATITUDE', 'LONGITUDE'])\n",
    "\n",
    "# IF NOT PERFORMED ABOVE: Drop rows where no cyclist was killed or injured\n",
    "# data_cyc = data_geo[(data_geo['NUMBER OF CYCLIST KILLED'] > 0) | (data_geo['NUMBER OF CYCLIST INJURED'] > 0)]\n",
    "\n",
    "# Filter rows for desired years\n",
    "data_cyc_22_24 = data_cyc[(data_cyc['CRASH DATE'] >= '2022-01-01') & (data_cyc['CRASH DATE'] <= '2024-12-31')]\n",
    "\n",
    "# Create a base map\n",
    "cyc_22_24 = folium.Map(location=[40.730610, -73.935242], zoom_start=10)\n",
    "\n",
    "# Add heatmap\n",
    "heat_cyc = [[row['LATITUDE'], row['LONGITUDE']] for index, row in data_cyc_22_24.iterrows()]\n",
    "HeatMap(heat_cyc, radius=8, max_zoom=13).add_to(cyc_22_24)\n",
    "\n",
    "# Save the map\n",
    "cyc_22_24.save(\"cyc_heatmap_2022_2024.html\")"
   ]
  },
  {
   "cell_type": "markdown",
   "metadata": {
    "id": "aQooNm0FpcuV"
   },
   "source": [
    "## Create Cyclist Fatality Maps"
   ]
  },
  {
   "cell_type": "markdown",
   "metadata": {
    "id": "JM9m31Wbplwu"
   },
   "source": [
    "### Cyclist Casualty Map, 2022-2024"
   ]
  },
  {
   "cell_type": "code",
   "execution_count": null,
   "metadata": {
    "id": "IK1nJDdrFhxF"
   },
   "outputs": [],
   "source": [
    "# IF NOT PERFORMED ABOVE: Drop rows with missing latitude and longitude values\n",
    "# data_geo = data.dropna(subset=['LATITUDE', 'LONGITUDE'])\n",
    "\n",
    "# IF NOT PERFORMED ABOVE: Drop rows with missing latitude and longitude values\n",
    "# data_cyc = data_geo[(data_geo['NUMBER OF CYCLIST KILLED'] > 0) | (data_geo['NUMBER OF CYCLIST INJURED'] > 0)]\n",
    "\n",
    "# IF NOT PERFORMED ABOVE: Filter rows for desired years\n",
    "# data_cyc_22_24 = data_cyc[(data_cyc['CRASH DATE'] >= '2022-01-01') & (data_cyc['CRASH DATE'] <= '2024-12-31')]\n",
    "\n",
    "# Create a base map\n",
    "cyc_casualty_22_24 = folium.Map(location=[40.730610, -73.935242], zoom_start=10)\n",
    "\n",
    "# Add polygons for cyclist fatalities to map\n",
    "for index, row in data_cyc_22_24.iterrows():\n",
    "    if row['NUMBER OF CYCLIST KILLED'] > 0:\n",
    "      color = \"red\"\n",
    "      folium.features.RegularPolygonMarker(\n",
    "          location=[row['LATITUDE'], row['LONGITUDE']],\n",
    "          number_of_sides=3,\n",
    "          radius=5,\n",
    "          gradient = False,\n",
    "          color=color,\n",
    "          fill=True,\n",
    "          fill_color=color\n",
    "        ).add_to(cycfatality_22_24)\n",
    "    elif row['NUMBER OF CYCLIST INJURED'] > 0:\n",
    "      color = \"yellow\"\n",
    "      folium.CircleMarker(\n",
    "          location=[row['LATITUDE'], row['LONGITUDE']],\n",
    "          radius=5,\n",
    "          color=color,\n",
    "          fill=True,\n",
    "          fill_color=color\n",
    "       ).add_to(cycfatality_22_24)\n",
    "\n",
    "# Save the map\n",
    "cyc_casualty_22_24.save(\"cyc_fatalities_2022_2024.html\")"
   ]
  },
  {
   "cell_type": "markdown",
   "metadata": {
    "id": "Of-j5cmbYnjK"
   },
   "source": [
    "### Cyclist Fatality Map, 2022-2024"
   ]
  },
  {
   "cell_type": "code",
   "execution_count": null,
   "metadata": {
    "id": "OEcaEqeiYrFw"
   },
   "outputs": [],
   "source": [
    "# IF NOT PERFORMED ABOVE: Drop rows with missing latitude and longitude values\n",
    "# data_geo = data.dropna(subset=['LATITUDE', 'LONGITUDE'])\n",
    "\n",
    "# IF NOT PERFORMED ABOVE: Drop rows with missing latitude and longitude values\n",
    "# data_cyc = data_geo[(data_geo['NUMBER OF CYCLIST KILLED'] > 0) | (data_geo['NUMBER OF CYCLIST INJURED'] > 0)]\n",
    "\n",
    "# IF NOT PERFORMED ABOVE: Filter rows for desired years\n",
    "# data_cyc_22_24 = data_cyc[(data_cyc['CRASH DATE'] >= '2022-01-01') & (data_cyc['CRASH DATE'] <= '2024-12-31')]\n",
    "\n",
    "# Create a base map\n",
    "cyc_fatality_22_24 = folium.Map(location=[40.730610, -73.935242], zoom_start=10)\n",
    "\n",
    "# Add polygons for cyclist fatalities to map\n",
    "for index, row in data_cyc_22_24.iterrows():\n",
    "    if row['NUMBER OF CYCLIST KILLED'] > 0:\n",
    "      color = \"red\"\n",
    "      folium.features.RegularPolygonMarker(\n",
    "          location=[row['LATITUDE'], row['LONGITUDE']],\n",
    "          number_of_sides=3,\n",
    "          radius=5,\n",
    "          gradient = False,\n",
    "          color=color,\n",
    "          fill=True,\n",
    "          fill_color=color\n",
    "        ).add_to(cyc_fatality_22_24)\n",
    "\n",
    "# Save the map\n",
    "cyc_fatality_22_24.save(\"cyc_fatalities_2022_2024.html\")"
   ]
  }
 ],
 "metadata": {
  "colab": {
   "provenance": [
    {
     "file_id": "1RPpA_KbXH-v-jbc1iPr5B2KLFZUH6F3F",
     "timestamp": 1741792961732
    },
    {
     "file_id": "17-t2XqpvKa-nke2ZqcAgKyuCilXDqW5I",
     "timestamp": 1741638401504
    },
    {
     "file_id": "1fa0jk84FAouS8PXniJz__1-mdSjpLULw",
     "timestamp": 1728314107056
    }
   ]
  },
  "kernelspec": {
   "display_name": "Python 3.8.8 ('base')",
   "language": "python",
   "name": "python3"
  },
  "language_info": {
   "codemirror_mode": {
    "name": "ipython",
    "version": 3
   },
   "file_extension": ".py",
   "mimetype": "text/x-python",
   "name": "python",
   "nbconvert_exporter": "python",
   "pygments_lexer": "ipython3",
   "version": "3.8.8"
  },
  "vscode": {
   "interpreter": {
    "hash": "58fcf84e0ebbaad2b6cc744ed9d48691de4e147b5be28c3707516d96647d7374"
   }
  }
 },
 "nbformat": 4,
 "nbformat_minor": 0
}
